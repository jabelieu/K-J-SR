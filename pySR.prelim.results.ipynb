{
 "cells": [
  {
   "cell_type": "code",
   "execution_count": 1,
   "metadata": {},
   "outputs": [],
   "source": [
    "import numpy as np\n",
    "import matplotlib.pyplot as plt\n",
    "import pandas as pd\n",
    "import sympy as sp"
   ]
  },
  {
   "cell_type": "code",
   "execution_count": null,
   "metadata": {},
   "outputs": [],
   "source": [
    "data_file = 'output.dat'\n",
    "\n",
    "rho0, rho1, tau0, tau1, jx0, jx1, jy0, jy1, jz0, jz1, sodensx0, sodensx1, sodensy0, sodensy1, sodensz0, sodensz1, spindenx0, spindenx1, \\\n",
    "spindeny0, spindeny1, spindenz0, spindenz1, drhosx0, drhosx1, drhosy, drhosy10, drhosz, drhosz10, rlam0, rlam1 = np.loadtxt( data_file , skiprows=1 , unpack=True)\n",
    "\n",
    "rho_tot = rho0 + rho1 # x0\n",
    "tau_tot = tau0 + tau1 # x1\n",
    "\n",
    "jx_tot = jx0 + jx1\n",
    "jy_tot = jy0 + jy1\n",
    "jz_tot = jz0 + jz1\n",
    "\n",
    "j2 = jx_tot**2 + jy_tot**2 + jz_tot**2 # x2\n",
    "\n",
    "sodensx_tot = sodensx0 + sodensx1\n",
    "sodensy_tot = sodensy0 + sodensy1\n",
    "sodensz_tot = sodensz0 + sodensz1\n",
    "\n",
    "sodens2 = sodensx_tot**2 + sodensy_tot**2 + sodensz_tot**2 # x3\n",
    "\n",
    "spindenx_tot = spindenx0 + spindenx1\n",
    "spindeny_tot = spindeny0 + spindeny1\n",
    "spindenz_tot = spindenz0 + spindenz1\n",
    "\n",
    "spinden2 = spindenx_tot**2 + spindeny_tot**2 + spindenz_tot**2 # x4\n",
    "\n",
    "drhosx_tot = drhosx0 + drhosx1\n",
    "drhosy_tot = drhosy + drhosy10\n",
    "drhosz_tot = drhosz + drhosz10\n",
    "\n",
    "drhos2 = drhosx_tot**2 + drhosy_tot**2 + drhosz_tot**2 # x5\n",
    "\n",
    "rlam_tot = rlam0 + rlam1"
   ]
  },
  {
   "cell_type": "code",
   "execution_count": null,
   "metadata": {},
   "outputs": [
    {
     "name": "stdout",
     "output_type": "stream",
     "text": [
      "[x1]\n"
     ]
    },
    {
     "ename": "KeyError",
     "evalue": "x1",
     "output_type": "error",
     "traceback": [
      "\u001b[0;31m---------------------------------------------------------------------------\u001b[0m",
      "\u001b[0;31mKeyError\u001b[0m                                  Traceback (most recent call last)",
      "Cell \u001b[0;32mIn[26], line 21\u001b[0m\n\u001b[1;32m     19\u001b[0m \u001b[38;5;28;01mif\u001b[39;00m \u001b[38;5;28mlen\u001b[39m(sf_var) \u001b[38;5;241m>\u001b[39m \u001b[38;5;241m0\u001b[39m :\n\u001b[1;32m     20\u001b[0m     \u001b[38;5;28mprint\u001b[39m(sf_var)\n\u001b[0;32m---> 21\u001b[0m     \u001b[38;5;28mprint\u001b[39m(sf,\u001b[43mtest_dict\u001b[49m\u001b[43m[\u001b[49m\u001b[43msf_var\u001b[49m\u001b[43m[\u001b[49m\u001b[38;5;241;43m0\u001b[39;49m\u001b[43m]\u001b[49m\u001b[43m]\u001b[49m)\n\u001b[1;32m     22\u001b[0m     output \u001b[38;5;241m=\u001b[39m sf\u001b[38;5;241m.\u001b[39msubs(sf_var[\u001b[38;5;241m0\u001b[39m], test_dict[sf_var[\u001b[38;5;241m0\u001b[39m]])\n\u001b[1;32m     23\u001b[0m     \u001b[38;5;28mprint\u001b[39m(output)\n",
      "\u001b[0;31mKeyError\u001b[0m: x1"
     ]
    }
   ],
   "source": [
    "csv1 = 'all.func.OotB.hall_of_fame.csv' # csv of out of the box settings with trig, exp, log, low polynomials, etc.\n",
    "csv2 = 'no.trig.OotB.hall_of_fame.csv' # the above but no trig functions\n",
    "csv3 = 'no.trig.long.iter.hall_of_fame.csv' # the above but with long iterations\n",
    "\n",
    "df1 = pd.read_csv(csv1)\n",
    "df2 = pd.read_csv(csv2)\n",
    "df3 = pd.read_csv(csv3)\n",
    "\n",
    "#dict = {'x0':rho_tot, 'x1':tau_tot, 'x2':j2, 'x3':sodens2, 'x4':spinden2, 'x5':drhos2, 'x6':rlam_tot}\n",
    "test_dict = dict{'x0':'0', 'x1':'1', 'x2':'2', 'x3':'3', 'x4':'4', 'x5':'5', 'x6':'6'}\n",
    "\n",
    "for i in range ( len(df1) ):\n",
    "\n",
    "    sf = sp.sympify(df1['Equation'][i]) # Sympy Function\n",
    "    sf_var = sf.free_symbols # Variables in the function\n",
    "    #print(sf_var)\n",
    "    sf_var = list(sf_var) # Convert to list\n",
    "    # sf = sp.simplify(sf)\n",
    "    if len(sf_var) > 0 :\n",
    "        print(sf_var)\n",
    "        print(sf,test_dict[sf_var[0]])\n",
    "        output = sf.subs(sf_var[0], test_dict[sf_var[0]])\n",
    "        print(output)\n",
    "    #    output = \n",
    "    #print(sf_var[0])"
   ]
  }
 ],
 "metadata": {
  "kernelspec": {
   "display_name": "sr.proj",
   "language": "python",
   "name": "python3"
  },
  "language_info": {
   "codemirror_mode": {
    "name": "ipython",
    "version": 3
   },
   "file_extension": ".py",
   "mimetype": "text/x-python",
   "name": "python",
   "nbconvert_exporter": "python",
   "pygments_lexer": "ipython3",
   "version": "3.12.3"
  }
 },
 "nbformat": 4,
 "nbformat_minor": 2
}
